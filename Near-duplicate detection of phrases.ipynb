{
 "cells": [
  {
   "cell_type": "markdown",
   "id": "7693e174",
   "metadata": {},
   "source": [
    "# Near-duplicate detection of phrases using cosine similarity"
   ]
  },
  {
   "cell_type": "markdown",
   "id": "abb1b0bd",
   "metadata": {},
   "source": [
    "Tweets on a subject are often nearly (but not exactly) duplicates of each other. The file Santa.txt contains a few tweets about Santa Claus, one tweet per line. We will try to detect tweets that we have already seen before. \n"
   ]
  },
  {
   "cell_type": "code",
   "execution_count": 1,
   "id": "3c11760f",
   "metadata": {},
   "outputs": [],
   "source": [
    "## Import the math function\n",
    "\n",
    "import math"
   ]
  },
  {
   "cell_type": "code",
   "execution_count": 2,
   "id": "a3b8113d",
   "metadata": {},
   "outputs": [
    {
     "data": {
      "text/plain": [
       "[\"SPECIAL SECRET HEARTS: A Child's Introduction to Dementia and Pink Curls - A Santa ... - http://t.co/UWCdc8FA9a http://t.co/meexKLGTKl\\n\",\n",
       " '\"Santa Claus Is Coming To Town #MTVHottest Justin Bieber\"\\n',\n",
       " \"RT @BuyBookstore: SPECIAL SECRET HEARTS: A Child's Introduction to Dementia and Pink Curls - A Santa ... - http://t.co/UWCdc8FA9a http://t.Â…\\n\",\n",
       " '\"RT @DrewFtDevonne_: Rt si te gusta Santa Claus Is Coming To Town #MTVHottest Justin Bieber\"\\n',\n",
       " '\"Rt si te gusta Santa Claus Is Coming To Town #MTVHottest Justin Bieber\"\\n']"
      ]
     },
     "execution_count": 2,
     "metadata": {},
     "output_type": "execute_result"
    }
   ],
   "source": [
    "## Open the file and read the lines from file\n",
    "\n",
    "file = open(\"Santa.txt\", \"r\")\n",
    "list_of_tweets = file.readlines()\n",
    "list_of_tweets"
   ]
  },
  {
   "cell_type": "markdown",
   "id": "cb5ba8b2",
   "metadata": {},
   "source": [
    "#### (a) Converting each tweet into a dictionary of phrases \n",
    "The function called moving window takes as input a tweet (that is, a string), and converts it into a bunch of phrases. Each phrase is three consecutive words in the tweet. <br>\n",
    "For example, the tweet ‘‘This is an awesome tweet, dude’’ consists of the phrases ‘‘ This is an’’, ‘‘is an awesome’’, ‘‘an awesome tweet,’’, and ‘‘awesome tweet, dude’’. It returns a dictionary whose keys are these phrases, and just set the corresponding values to 1. This dictionary contains all the unique 3-word phrases in the tweet. <br> <br>"
   ]
  },
  {
   "cell_type": "code",
   "execution_count": 128,
   "id": "6fd00fa1",
   "metadata": {},
   "outputs": [],
   "source": [
    "def moving_window(tweet):\n",
    "    \n",
    "    '''\n",
    "    A function to convert a tweet to a dictionary of three-word phrases in the tweet and initialize the values to 1\n",
    "    \n",
    "    Paramters:\n",
    "    tweet (str): Input is the tweet for which the phrases need to be calculated\n",
    "    \n",
    "    Returns:\n",
    "    A dictionary of all three-word phrases from the tweet as key and 1 as value\n",
    "    \n",
    "    '''\n",
    "    word_list = {}\n",
    "    \n",
    "    match = tweet.split(\" \")\n",
    "\n",
    "    for i in range(len(match)):\n",
    "        j = i+1\n",
    "        k = i+2\n",
    "    \n",
    "        if k>=len(match):\n",
    "            break\n",
    "    \n",
    "        new_string = match[i] + \" \" + match[j] + \" \" + match[k]\n",
    "        word_list[new_string] = 1\n",
    "\n",
    "    return word_list"
   ]
  },
  {
   "cell_type": "markdown",
   "id": "b57fc3c1",
   "metadata": {},
   "source": [
    "#### (b) Calculating similarity between two tweets\n",
    "To check if one tweet is a near-duplicate of another, we compute their cosine similarity: <br>\n",
    "$$\n",
    " cosine(tweet1, tweet2) = \\frac{matches}{\\sqrt{(n1 ∗ n2)}} \n",
    "$$\n",
    "\n",
    "\n",
    "where matches is the number of 3-word phrases in common between the\n",
    "two tweets, and n1 and n2 are the number of phrases in the two tweets\n",
    "respectively. <br><br>\n",
    "The function called cosine takes as input two dictionaries. Each\n",
    "dictionary contains the 3-word phrases from one tweet. It returns the cosine\n",
    "similarity between the phrases in the two dictionaries.<br>"
   ]
  },
  {
   "cell_type": "code",
   "execution_count": 3,
   "id": "e6993017",
   "metadata": {},
   "outputs": [],
   "source": [
    "def cosine(tweet1, tweet2):\n",
    "    \n",
    "    '''\n",
    "    A function to compute the cosine similarity between two tweets\n",
    "    \n",
    "    Input:\n",
    "    tweet1 (str), tweet(str) : The two tweets between which the cosine similarity needs to be calculated\n",
    "    \n",
    "    Returns:\n",
    "    The cosine similarity between the two tweets\n",
    "\n",
    "    '''\n",
    "    \n",
    "    tweet1_dict = moving_window(tweet1)\n",
    "    tweet2_dict = moving_window(tweet2)\n",
    "\n",
    "    n1 = len(tweet1_dict.keys())\n",
    "    n2 = len(tweet2_dict.keys())\n",
    "\n",
    "    matches=0\n",
    "\n",
    "    for key in tweet1_dict.keys():\n",
    "        if key in tweet2_dict.keys():\n",
    "            matches = matches +1\n",
    "\n",
    "    return matches/math.sqrt(n1*n2)"
   ]
  },
  {
   "cell_type": "markdown",
   "id": "0c4604da",
   "metadata": {},
   "source": [
    "#### (c) Reading in tweets, and output near-duplicates \n",
    "Here, we read in the tweets in the file Santa.txt. For each tweet, we figure out if it is a near duplicate of any of the previously-seen tweets. We say that the two tweets are near-duplicates if their cosine similarity is greater than 0.5. <br>This is done by calling the functions moving window and cosine here."
   ]
  },
  {
   "cell_type": "code",
   "execution_count": 130,
   "id": "fe782a3d",
   "metadata": {},
   "outputs": [
    {
     "name": "stdout",
     "output_type": "stream",
     "text": [
      "========================================================================================================================\n",
      "Tweet 3: RT @BuyBookstore: SPECIAL SECRET HEARTS: A Child's Introduction to Dementia and Pink Curls - A Santa ... - http://t.co/UWCdc8FA9a http://t.Â…\n",
      "Tweet 1: SPECIAL SECRET HEARTS: A Child's Introduction to Dementia and Pink Curls - A Santa ... - http://t.co/UWCdc8FA9a http://t.co/meexKLGTKl\n",
      "\n",
      "Number of 3-word phrases in Tweet 3: 18\n",
      "Number of 3-word phrases in Tweet 1: 16\n",
      "Cosine Similarity between the two tweets: 0.8838834764831844\n",
      "\n",
      "RT @BuyBookstore: SPECIAL SECRET HEARTS: A Child's Introduction to Dementia and Pink Curls - A Santa ... - http://t.co/UWCdc8FA9a http://t.Â…\n",
      " is a duplicate of SPECIAL SECRET HEARTS: A Child's Introduction to Dementia and Pink Curls - A Santa ... - http://t.co/UWCdc8FA9a http://t.co/meexKLGTKl\n",
      "\n",
      "========================================================================================================================\n",
      "Tweet 4: \"RT @DrewFtDevonne_: Rt si te gusta Santa Claus Is Coming To Town #MTVHottest Justin Bieber\"\n",
      "Tweet 2: \"Santa Claus Is Coming To Town #MTVHottest Justin Bieber\"\n",
      "\n",
      "Number of 3-word phrases in Tweet 4: 13\n",
      "Number of 3-word phrases in Tweet 2: 7\n",
      "Cosine Similarity between the two tweets: 0.628970902033151\n",
      "\n",
      "\"RT @DrewFtDevonne_: Rt si te gusta Santa Claus Is Coming To Town #MTVHottest Justin Bieber\"\n",
      " is a duplicate of \"Santa Claus Is Coming To Town #MTVHottest Justin Bieber\"\n",
      "\n",
      "========================================================================================================================\n",
      "Tweet 5: \"Rt si te gusta Santa Claus Is Coming To Town #MTVHottest Justin Bieber\"\n",
      "Tweet 2: \"Santa Claus Is Coming To Town #MTVHottest Justin Bieber\"\n",
      "\n",
      "Number of 3-word phrases in Tweet 5: 11\n",
      "Number of 3-word phrases in Tweet 2: 7\n",
      "Cosine Similarity between the two tweets: 0.6837634587578276\n",
      "\n",
      "\"Rt si te gusta Santa Claus Is Coming To Town #MTVHottest Justin Bieber\"\n",
      " is a duplicate of \"Santa Claus Is Coming To Town #MTVHottest Justin Bieber\"\n",
      "\n",
      "========================================================================================================================\n",
      "Tweet 5: \"Rt si te gusta Santa Claus Is Coming To Town #MTVHottest Justin Bieber\"\n",
      "Tweet 4: \"RT @DrewFtDevonne_: Rt si te gusta Santa Claus Is Coming To Town #MTVHottest Justin Bieber\"\n",
      "\n",
      "Number of 3-word phrases in Tweet 5: 11\n",
      "Number of 3-word phrases in Tweet 4: 13\n",
      "Cosine Similarity between the two tweets: 0.8362420100070908\n",
      "\n",
      "\"Rt si te gusta Santa Claus Is Coming To Town #MTVHottest Justin Bieber\"\n",
      " is a duplicate of \"RT @DrewFtDevonne_: Rt si te gusta Santa Claus Is Coming To Town #MTVHottest Justin Bieber\"\n",
      "\n"
     ]
    }
   ],
   "source": [
    "## Write a function to loop through individual tweets and check if it is nearly similar to any previous tweets\n",
    "\n",
    "for i in range(len(list_of_tweets)):\n",
    "    j=0\n",
    "\n",
    "    while j<i: \n",
    "        tweet1 = list_of_tweets[i]\n",
    "        tweet2 = list_of_tweets[j]\n",
    "        \n",
    "        cos_value = cosine(tweet1, tweet2)\n",
    "        \n",
    "        if cos_value > 0.5:\n",
    "            print('='*120)\n",
    "            print(f'Tweet {i+1}: {tweet1}'.rstrip())\n",
    "            print(f'Tweet {j+1}: {tweet2}')\n",
    "            print(f'Number of 3-word phrases in Tweet {i+1}: {len(moving_window(tweet1).keys())}')\n",
    "            print(f'Number of 3-word phrases in Tweet {j+1}: {len(moving_window(tweet2).keys())}')\n",
    "            print(f'Cosine Similarity between the two tweets: {cos_value}\\n')\n",
    "            print(f'{tweet1} is a duplicate of {tweet2}')\n",
    "        j += 1"
   ]
  },
  {
   "cell_type": "markdown",
   "id": "ea883e08",
   "metadata": {},
   "source": [
    "# END-OF-CODE"
   ]
  }
 ],
 "metadata": {
  "kernelspec": {
   "display_name": "Python 3",
   "language": "python",
   "name": "python3"
  },
  "language_info": {
   "codemirror_mode": {
    "name": "ipython",
    "version": 3
   },
   "file_extension": ".py",
   "mimetype": "text/x-python",
   "name": "python",
   "nbconvert_exporter": "python",
   "pygments_lexer": "ipython3",
   "version": "3.8.8"
  }
 },
 "nbformat": 4,
 "nbformat_minor": 5
}
